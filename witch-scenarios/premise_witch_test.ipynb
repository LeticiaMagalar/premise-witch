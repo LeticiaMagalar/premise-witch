{
 "cells": [
  {
   "cell_type": "code",
   "execution_count": 1,
   "metadata": {},
   "outputs": [],
   "source": [
    "import premise\n",
    "from premise import *\n",
    "import brightway2 as bw\n",
    "import os\n",
    "import sys"
   ]
  },
  {
   "cell_type": "code",
   "execution_count": 2,
   "metadata": {},
   "outputs": [
    {
     "name": "stdout",
     "output_type": "stream",
     "text": [
      "C:\\WORK\\premise-witch\\premise\\__init__.py\n"
     ]
    }
   ],
   "source": [
    "# To ensure that the environment you are using does not have the cloned premise code installed in editable mode\n",
    "# print(premise.__file__)\n",
    "# this should point to the local github repo, not some library installed in conda\n",
    "\n",
    "print(premise.__file__)"
   ]
  },
  {
   "cell_type": "code",
   "execution_count": 39,
   "metadata": {},
   "outputs": [
    {
     "name": "stdout",
     "output_type": "stream",
     "text": [
      "c:\\WORK\\premise-witch\\witch-scenarios\n",
      "c:\\Users\\Ospite EIEE\\anaconda3\\envs\\premise\\python.exe\n",
      "['c:\\\\WORK\\\\premise-witch', 'c:\\\\Users\\\\Ospite EIEE\\\\anaconda3\\\\envs\\\\premise\\\\python311.zip', 'c:\\\\Users\\\\Ospite EIEE\\\\anaconda3\\\\envs\\\\premise\\\\DLLs', 'c:\\\\Users\\\\Ospite EIEE\\\\anaconda3\\\\envs\\\\premise\\\\Lib', 'c:\\\\Users\\\\Ospite EIEE\\\\anaconda3\\\\envs\\\\premise', '', 'c:\\\\Users\\\\Ospite EIEE\\\\anaconda3\\\\envs\\\\premise\\\\Lib\\\\site-packages', 'c:\\\\Users\\\\Ospite EIEE\\\\anaconda3\\\\envs\\\\premise\\\\Lib\\\\site-packages\\\\win32', 'c:\\\\Users\\\\Ospite EIEE\\\\anaconda3\\\\envs\\\\premise\\\\Lib\\\\site-packages\\\\win32\\\\lib', 'c:\\\\Users\\\\Ospite EIEE\\\\anaconda3\\\\envs\\\\premise\\\\Lib\\\\site-packages\\\\Pythonwin', 'c:\\\\Users\\\\Ospite EIEE\\\\anaconda3\\\\envs\\\\premise\\\\Lib\\\\site-packages\\\\setuptools\\\\_vendor']\n"
     ]
    }
   ],
   "source": [
    "import os,sys\n",
    "print(os.getcwd())\n",
    "print(sys.executable)\n",
    "print(sys.path)"
   ]
  },
  {
   "cell_type": "code",
   "execution_count": 21,
   "metadata": {},
   "outputs": [
    {
     "name": "stdout",
     "output_type": "stream",
     "text": [
      " Volume in drive C is Windows\n",
      " Volume Serial Number is B237-8D1E\n",
      "\n",
      " Directory of c:\\WORK\\premise-witch\\witch-scenarios\n",
      "\n",
      "11/22/2024  02:50 PM    <DIR>          .\n",
      "11/20/2024  09:52 AM    <DIR>          ..\n",
      "11/20/2024  08:25 AM    <DIR>          export\n",
      "11/19/2024  09:36 PM            10,960 premise_witch_test.ipynb\n",
      "11/20/2024  08:25 AM                 0 unlinked.log\n",
      "11/22/2024  02:50 PM         3,793,058 witch_SSP2-Base.csv\n",
      "               3 File(s)      3,804,018 bytes\n",
      "               3 Dir(s)  178,119,872,512 bytes free\n"
     ]
    }
   ],
   "source": [
    "!dir"
   ]
  },
  {
   "cell_type": "code",
   "execution_count": 22,
   "metadata": {},
   "outputs": [],
   "source": [
    "# My local rep is not appearing in the system path, when I run newdb class it goes to\n",
    "# c:\\Users\\Ospite EIEE\\anaconda3\\envs\\premise\\Lib\\site-packages\\premise\\new_database.py instead of my repo\n",
    "# Here I'm manually loading premise from the right path\n",
    "\n",
    "import importlib.util\n",
    "\n",
    "spec = importlib.util.spec_from_file_location(\n",
    "    \"premise\", \"c:/WORK/premise-witch/premise/__init__.py\"\n",
    ")\n",
    "premise = importlib.util.module_from_spec(spec)\n",
    "spec.loader.exec_module(premise)\n",
    "\n",
    "#obs: I had to reinstall premise (from my local repo) module in premise env. Now I need to make sure that all the changes here will be considered "
   ]
  },
  {
   "cell_type": "code",
   "execution_count": 40,
   "metadata": {},
   "outputs": [
    {
     "name": "stdout",
     "output_type": "stream",
     "text": [
      "c:\\Users\\Ospite EIEE\\anaconda3\\envs\\premise\\Lib\\site-packages\\premise\\__init__.py\n"
     ]
    }
   ],
   "source": [
    "print(premise.__file__)  "
   ]
  },
  {
   "cell_type": "code",
   "execution_count": 41,
   "metadata": {},
   "outputs": [
    {
     "name": "stdout",
     "output_type": "stream",
     "text": [
      "c:\\WORK\\premise-witch\n",
      "c:\\Users\\Ospite EIEE\\anaconda3\\envs\\premise\\python311.zip\n",
      "c:\\Users\\Ospite EIEE\\anaconda3\\envs\\premise\\DLLs\n",
      "c:\\Users\\Ospite EIEE\\anaconda3\\envs\\premise\\Lib\n",
      "c:\\Users\\Ospite EIEE\\anaconda3\\envs\\premise\n",
      "\n",
      "c:\\Users\\Ospite EIEE\\anaconda3\\envs\\premise\\Lib\\site-packages\n",
      "c:\\Users\\Ospite EIEE\\anaconda3\\envs\\premise\\Lib\\site-packages\\win32\n",
      "c:\\Users\\Ospite EIEE\\anaconda3\\envs\\premise\\Lib\\site-packages\\win32\\lib\n",
      "c:\\Users\\Ospite EIEE\\anaconda3\\envs\\premise\\Lib\\site-packages\\Pythonwin\n",
      "c:\\Users\\Ospite EIEE\\anaconda3\\envs\\premise\\Lib\\site-packages\\setuptools\\_vendor\n"
     ]
    }
   ],
   "source": [
    "print(\"\\n\".join(sys.path)) "
   ]
  },
  {
   "cell_type": "code",
   "execution_count": 25,
   "metadata": {},
   "outputs": [
    {
     "name": "stdout",
     "output_type": "stream",
     "text": [
      "c:\\WORK\\premise-witch\n",
      "c:\\Users\\Ospite EIEE\\anaconda3\\envs\\premise\\python311.zip\n",
      "c:\\Users\\Ospite EIEE\\anaconda3\\envs\\premise\\DLLs\n",
      "c:\\Users\\Ospite EIEE\\anaconda3\\envs\\premise\\Lib\n",
      "c:\\Users\\Ospite EIEE\\anaconda3\\envs\\premise\n",
      "\n",
      "c:\\Users\\Ospite EIEE\\anaconda3\\envs\\premise\\Lib\\site-packages\n",
      "c:\\Users\\Ospite EIEE\\anaconda3\\envs\\premise\\Lib\\site-packages\\win32\n",
      "c:\\Users\\Ospite EIEE\\anaconda3\\envs\\premise\\Lib\\site-packages\\win32\\lib\n",
      "c:\\Users\\Ospite EIEE\\anaconda3\\envs\\premise\\Lib\\site-packages\\Pythonwin\n",
      "c:\\Users\\Ospite EIEE\\anaconda3\\envs\\premise\\Lib\\site-packages\\setuptools\\_vendor\n"
     ]
    }
   ],
   "source": [
    "#Path to your local repository\n",
    "local_repo_path = \"c:/WORK/premise-witch\"\n",
    "\n",
    "#Add the local repository to sys.path\n",
    "if local_repo_path not in sys.path:\n",
    "    sys.path.insert(0, os.path.abspath(local_repo_path))\n",
    "\n",
    "# Verify sys.path\n",
    "print(\"\\n\".join(sys.path))\n"
   ]
  },
  {
   "cell_type": "code",
   "execution_count": 3,
   "metadata": {},
   "outputs": [],
   "source": [
    "bw.projects.set_current(\"premise-witch\")"
   ]
  },
  {
   "cell_type": "code",
   "execution_count": 4,
   "metadata": {},
   "outputs": [
    {
     "data": {
      "text/plain": [
       "Databases dictionary with 2 object(s):\n",
       "\tbiosphere\n",
       "\tecoinvent-3.10-cutoff"
      ]
     },
     "execution_count": 4,
     "metadata": {},
     "output_type": "execute_result"
    }
   ],
   "source": [
    "bw.databases"
   ]
  },
  {
   "cell_type": "code",
   "execution_count": 9,
   "metadata": {},
   "outputs": [
    {
     "name": "stdout",
     "output_type": "stream",
     "text": [
      "c:\\Users\\Ospite EIEE\\anaconda3\\envs\\premise\\Lib\\site-packages\\premise\\__init__.py\n"
     ]
    }
   ],
   "source": [
    "import premise\n",
    "print(premise.__file__) "
   ]
  },
  {
   "cell_type": "code",
   "execution_count": 5,
   "metadata": {},
   "outputs": [
    {
     "name": "stdout",
     "output_type": "stream",
     "text": [
      "premise requires the name of your biosphere database.\n",
      "Please enter the name of your biosphere database as it appears in your project.\n",
      "Databases dictionary with 2 object(s):\n",
      "\tbiosphere\n",
      "\tecoinvent-3.10-cutoff\n",
      "premise v.(2, 2, 1)\n",
      "+------------------------------------------------------------------+\n",
      "| Warning                                                          |\n",
      "+------------------------------------------------------------------+\n",
      "| Because some of the scenarios can yield LCI databases            |\n",
      "| containing net negative emission technologies (NET),             |\n",
      "| it is advised to account for biogenic CO2 flows when calculating |\n",
      "| Global Warming potential indicators.                             |\n",
      "| `premise_gwp` provides characterization factors for such flows.  |\n",
      "| It also provides factors for hydrogen emissions to air.          |\n",
      "|                                                                  |\n",
      "| Within your bw2 project:                                         |\n",
      "| from premise_gwp import add_premise_gwp                          |\n",
      "| add_premise_gwp()                                                |\n",
      "+------------------------------------------------------------------+\n",
      "+--------------------------------+----------------------------------+\n",
      "| Utils functions                | Description                      |\n",
      "+--------------------------------+----------------------------------+\n",
      "| clear_cache()                  | Clears the cache folder. Useful  |\n",
      "|                                | when updating `premise`or        |\n",
      "|                                | encountering issues with         |\n",
      "|                                | inventories.                     |\n",
      "+--------------------------------+----------------------------------+\n",
      "| get_regions_definition(model)  | Retrieves the list of countries  |\n",
      "|                                | for each region of the model.    |\n",
      "+--------------------------------+----------------------------------+\n",
      "| ndb.NewDatabase(...)           | Generates a summary of the most  |\n",
      "| ndb.generate_scenario_report() | important scenarios' variables.  |\n",
      "+--------------------------------+----------------------------------+\n",
      "Keep uncertainty data?\n",
      "NewDatabase(..., keep_source_db_uncertainty=True), keep_imports_uncertainty=True)\n",
      "\n",
      "Hide these messages?\n",
      "NewDatabase(..., quiet=True)\n",
      "- Extracting source database\n",
      "- Extracting inventories\n",
      "- Fetching IAM data\n",
      "Reading ..\\premise\\data\\iam_output_files\\witch_SSP2-Base.csv as csv file\n",
      "The following variables are missing from the IAM file:\n",
      "+--------------------------------------------+\n",
      "|                  Variable                  |\n",
      "+--------------------------------------------+\n",
      "| Secondary Energy|Electricity|Coal|w/ CCS|2 |\n",
      "+--------------------------------------------+\n",
      "The following variables are missing from the IAM file:\n",
      "+-----------------------------------------------------+\n",
      "|                       Variable                      |\n",
      "+-----------------------------------------------------+\n",
      "|         Agricultural Production|Energy Crops        |\n",
      "| Agricultural Production|Energy|Crops|2nd generation |\n",
      "+-----------------------------------------------------+\n",
      "Cannot find variables for cement capture rate.\n",
      "Cannot find variables for steel capture rate.\n",
      "The following variables are missing from the IAM file:\n",
      "+--------------------------------------+\n",
      "|               Variable               |\n",
      "+--------------------------------------+\n",
      "| Efficiency|Electricity|Oil|w/o CCS|1 |\n",
      "| Efficiency|Electricity|Coal|w/ CCS|2 |\n",
      "+--------------------------------------+\n",
      "The following variables are missing from the IAM file:\n",
      "+-----------------------------------------------------+\n",
      "|                       Variable                      |\n",
      "+-----------------------------------------------------+\n",
      "|         Agricultural Production|Energy Crops        |\n",
      "| Agricultural Production|Energy|Crops|2nd generation |\n",
      "|      Secondary Energy|Electricity|Coal|w/ CCS|2     |\n",
      "+-----------------------------------------------------+\n",
      "Done!\n"
     ]
    }
   ],
   "source": [
    "ndb = NewDatabase(\n",
    "    scenarios=[\n",
    "        {\"model\":\"witch\", \"pathway\":\"SSP2-Base\", \"year\":2050, \"filepath\":os.path.join(\"..\", \"premise\",\"data\", \"iam_output_files\")},\n",
    "    ],\n",
    "    source_db=\"ecoinvent-3.10-cutoff\", \n",
    "    source_version=\"3.10\", \n",
    "    keep_source_db_uncertainty=False, \n",
    "    keep_imports_uncertainty=False, \n",
    "    use_absolute_efficiency=True,    \n",
    ")"
   ]
  },
  {
   "cell_type": "code",
   "execution_count": 12,
   "metadata": {},
   "outputs": [
    {
     "name": "stderr",
     "output_type": "stream",
     "text": [
      "Processing scenarios for sector 'electricity':   0%| | 0/1 [00:00<?, ?"
     ]
    },
    {
     "name": "stdout",
     "output_type": "stream",
     "text": [
      "Warning: ('electricity production, at wood burning power plant', 'World') has no energy input\n",
      "Warning: ('electricity production, at wood burning power plant', 'brazil') has no energy input\n",
      "Warning: ('electricity production, at wood burning power plant', 'canada') has no energy input\n",
      "Warning: ('electricity production, at wood burning power plant', 'china') has no energy input\n",
      "Warning: ('electricity production, at wood burning power plant', 'europe') has no energy input\n",
      "Warning: ('electricity production, at wood burning power plant', 'india') has no energy input\n",
      "Warning: ('electricity production, at wood burning power plant', 'indonesia') has no energy input\n",
      "Warning: ('electricity production, at wood burning power plant', 'jpnkor') has no energy input\n",
      "Warning: ('electricity production, at wood burning power plant', 'laca') has no energy input\n",
      "Warning: ('electricity production, at wood burning power plant', 'mena') has no energy input\n",
      "Warning: ('electricity production, at wood burning power plant', 'mexico') has no energy input\n",
      "Warning: ('electricity production, at wood burning power plant', 'oceania') has no energy input\n",
      "Warning: ('electricity production, at wood burning power plant', 'sasia') has no energy input\n",
      "Warning: ('electricity production, at wood burning power plant', 'seasia') has no energy input\n",
      "Warning: ('electricity production, at wood burning power plant', 'southafrica') has no energy input\n",
      "Warning: ('electricity production, at wood burning power plant', 'ssa') has no energy input\n",
      "Warning: ('electricity production, at wood burning power plant', 'te') has no energy input\n",
      "Warning: ('electricity production, at wood burning power plant', 'usa') has no energy input\n",
      "Warning: ('electricity production, at wood burning power plant, post, pipeline 200km, storage 1000m', 'World') has no energy input\n",
      "Warning: ('electricity production, at wood burning power plant, post, pipeline 200km, storage 1000m', 'brazil') has no energy input\n",
      "Warning: ('electricity production, at wood burning power plant, post, pipeline 200km, storage 1000m', 'canada') has no energy input\n",
      "Warning: ('electricity production, at wood burning power plant, post, pipeline 200km, storage 1000m', 'china') has no energy input\n",
      "Warning: ('electricity production, at wood burning power plant, post, pipeline 200km, storage 1000m', 'europe') has no energy input\n",
      "Warning: ('electricity production, at wood burning power plant, post, pipeline 200km, storage 1000m', 'india') has no energy input\n",
      "Warning: ('electricity production, at wood burning power plant, post, pipeline 200km, storage 1000m', 'indonesia') has no energy input\n",
      "Warning: ('electricity production, at wood burning power plant, post, pipeline 200km, storage 1000m', 'jpnkor') has no energy input\n",
      "Warning: ('electricity production, at wood burning power plant, post, pipeline 200km, storage 1000m', 'laca') has no energy input\n",
      "Warning: ('electricity production, at wood burning power plant, post, pipeline 200km, storage 1000m', 'mena') has no energy input\n",
      "Warning: ('electricity production, at wood burning power plant, post, pipeline 200km, storage 1000m', 'mexico') has no energy input\n",
      "Warning: ('electricity production, at wood burning power plant, post, pipeline 200km, storage 1000m', 'oceania') has no energy input\n",
      "Warning: ('electricity production, at wood burning power plant, post, pipeline 200km, storage 1000m', 'sasia') has no energy input\n",
      "Warning: ('electricity production, at wood burning power plant, post, pipeline 200km, storage 1000m', 'seasia') has no energy input\n",
      "Warning: ('electricity production, at wood burning power plant, post, pipeline 200km, storage 1000m', 'southafrica') has no energy input\n",
      "Warning: ('electricity production, at wood burning power plant, post, pipeline 200km, storage 1000m', 'ssa') has no energy input\n",
      "Warning: ('electricity production, at wood burning power plant, post, pipeline 200km, storage 1000m', 'te') has no energy input\n",
      "Warning: ('electricity production, at wood burning power plant, post, pipeline 200km, storage 1000m', 'usa') has no energy input\n",
      "Warning: ('electricity production, natural gas, conventional power plant', 'IN-DL') has no energy input\n",
      "Warning: ('electricity production, natural gas, conventional power plant', 'IN-MH') has no energy input\n",
      "Warning: ('electricity production, natural gas, conventional power plant', 'CA-BC') has no energy input\n",
      "Warning: ('electricity production, natural gas, conventional power plant', 'CN-XZ') has no energy input\n",
      "Warning: ('electricity production, natural gas, conventional power plant', 'CN-ZJ') has no energy input\n",
      "Warning: ('electricity production, natural gas, conventional power plant', 'IN-KL') has no energy input\n",
      "Warning: ('electricity production, natural gas, conventional power plant', 'US-WECC') has no energy input\n",
      "Warning: ('electricity production, natural gas, conventional power plant', 'CA-NT') has no energy input\n",
      "Warning: ('electricity production, natural gas, conventional power plant', 'CN-JS') has no energy input\n",
      "Warning: ('electricity production, natural gas, conventional power plant', 'IN-GJ') has no energy input\n",
      "Warning: ('electricity production, natural gas, conventional power plant', 'TH') has no energy input\n",
      "Warning: ('electricity production, natural gas, conventional power plant', 'FR') has no energy input\n",
      "Warning: ('electricity production, natural gas, conventional power plant', 'AT') has no energy input\n",
      "Warning: ('electricity production, natural gas, conventional power plant', 'AU') has no energy input\n",
      "Warning: ('electricity production, natural gas, conventional power plant', 'SK') has no energy input\n",
      "Warning: ('electricity production, natural gas, conventional power plant', 'CA-NF') has no energy input\n",
      "Warning: ('electricity production, natural gas, conventional power plant', 'KR') has no energy input\n",
      "Warning: ('electricity production, natural gas, conventional power plant', 'TZ') has no energy input\n",
      "Warning: ('electricity production, natural gas, conventional power plant', 'CN-HB') has no energy input\n",
      "Warning: ('electricity production, natural gas, conventional power plant', 'IN-GA') has no energy input\n",
      "Warning: ('electricity production, natural gas, conventional power plant', 'MX') has no energy input\n",
      "Warning: ('electricity production, natural gas, conventional power plant', 'IN-PY') has no energy input\n",
      "Warning: ('electricity production, natural gas, conventional power plant', 'US-ASCC') has no energy input\n",
      "Warning: ('electricity production, natural gas, conventional power plant', 'IT') has no energy input\n",
      "Warning: ('electricity production, natural gas, conventional power plant', 'CN-XJ') has no energy input\n",
      "Warning: ('electricity production, natural gas, conventional power plant', 'CN-NM') has no energy input\n",
      "Warning: ('electricity production, natural gas, conventional power plant', 'MY') has no energy input\n",
      "Warning: ('electricity production, natural gas, conventional power plant', 'TW') has no energy input\n",
      "Warning: ('electricity production, natural gas, conventional power plant', 'US-SERC') has no energy input\n",
      "Warning: ('electricity production, natural gas, conventional power plant', 'CA-AB') has no energy input\n",
      "Warning: ('electricity production, natural gas, conventional power plant', 'IN-UP') has no energy input\n",
      "Warning: ('electricity production, natural gas, conventional power plant', 'CN-SA') has no energy input\n",
      "Warning: ('electricity production, natural gas, conventional power plant', 'IN-TN') has no energy input\n",
      "Warning: ('electricity production, natural gas, conventional power plant', 'CN-SX') has no energy input\n",
      "Warning: ('electricity production, natural gas, conventional power plant', 'CN-GZ') has no energy input\n",
      "Warning: ('electricity production, natural gas, conventional power plant', 'IN-KA') has no energy input\n",
      "Warning: ('electricity production, natural gas, conventional power plant', 'IN-TR') has no energy input\n",
      "Warning: ('electricity production, natural gas, conventional power plant', 'LU') has no energy input\n",
      "Warning: ('electricity production, natural gas, conventional power plant', 'RU') has no energy input\n",
      "Warning: ('electricity production, natural gas, conventional power plant', 'US-MRO') has no energy input\n",
      "Warning: ('electricity production, natural gas, conventional power plant', 'RoW') has no energy input\n",
      "Warning: ('electricity production, natural gas, conventional power plant', 'BR-North-eastern grid') has no energy input\n",
      "Warning: ('electricity production, natural gas, conventional power plant', 'CN-TJ') has no energy input\n",
      "Warning: ('electricity production, natural gas, conventional power plant', 'IN-DN') has no energy input\n",
      "Warning: ('electricity production, natural gas, conventional power plant', 'CN-QH') has no energy input\n",
      "Warning: ('electricity production, natural gas, conventional power plant', 'CN-GD') has no energy input\n",
      "Warning: ('electricity production, natural gas, conventional power plant', 'PT') has no energy input\n",
      "Warning: ('electricity production, natural gas, conventional power plant', 'CA-MB') has no energy input\n",
      "Warning: ('electricity production, natural gas, conventional power plant', 'PE') has no energy input\n",
      "Warning: ('electricity production, natural gas, conventional power plant', 'CN-JX') has no energy input\n",
      "Warning: ('electricity production, natural gas, conventional power plant', 'IN-AS') has no energy input\n",
      "Warning: ('electricity production, natural gas, conventional power plant', 'CN-NX') has no energy input\n",
      "Warning: ('electricity production, natural gas, conventional power plant', 'CN-SD') has no energy input\n",
      "Warning: ('electricity production, natural gas, conventional power plant', 'CN-GX') has no energy input\n",
      "Warning: ('electricity production, natural gas, conventional power plant', 'IN-MP') has no energy input\n",
      "Warning: ('electricity production, natural gas, conventional power plant', 'FI') has no energy input\n",
      "Warning: ('electricity production, natural gas, conventional power plant', 'CN-GS') has no energy input\n",
      "Warning: ('electricity production, natural gas, conventional power plant', 'CN-LN') has no energy input\n",
      "Warning: ('electricity production, natural gas, conventional power plant', 'GB') has no energy input\n",
      "Warning: ('electricity production, natural gas, conventional power plant', 'CN-JL') has no energy input\n",
      "Warning: ('electricity production, natural gas, conventional power plant', 'CN-FJ') has no energy input\n",
      "Warning: ('electricity production, natural gas, conventional power plant', 'CZ') has no energy input\n",
      "Warning: ('electricity production, natural gas, conventional power plant', 'IN-RJ') has no energy input\n",
      "Warning: ('electricity production, natural gas, conventional power plant', 'IR') has no energy input\n",
      "Warning: ('electricity production, natural gas, conventional power plant', 'IE') has no energy input\n",
      "Warning: ('electricity production, natural gas, conventional power plant', 'SI') has no energy input\n",
      "Warning: ('electricity production, natural gas, conventional power plant', 'CN-YN') has no energy input\n",
      "Warning: ('electricity production, natural gas, conventional power plant', 'CN-HL') has no energy input\n",
      "Warning: ('electricity production, natural gas, conventional power plant', 'CN-BJ') has no energy input\n",
      "Warning: ('electricity production, natural gas, conventional power plant', 'IN-HR') has no energy input\n",
      "Warning: ('electricity production, natural gas, conventional power plant', 'CN-HE') has no energy input\n",
      "Warning: ('electricity production, natural gas, conventional power plant', 'CA-NB') has no energy input\n",
      "Warning: ('electricity production, natural gas, conventional power plant', 'US-RFC') has no energy input\n",
      "Warning: ('electricity production, natural gas, conventional power plant', 'UA') has no energy input\n",
      "Warning: ('electricity production, natural gas, conventional power plant', 'CN-AH') has no energy input\n",
      "Warning: ('electricity production, natural gas, conventional power plant', 'NO') has no energy input\n",
      "Warning: ('electricity production, natural gas, conventional power plant', 'ID') has no energy input\n",
      "Warning: ('electricity production, natural gas, conventional power plant', 'BR-South-eastern/Mid-western grid') has no energy input\n",
      "Warning: ('electricity production, natural gas, conventional power plant', 'JP') has no energy input\n",
      "Warning: ('electricity production, natural gas, conventional power plant', 'CA-PE') has no energy input\n",
      "Warning: ('electricity production, natural gas, conventional power plant', 'CN-CQ') has no energy input\n",
      "Warning: ('electricity production, natural gas, conventional power plant', 'HR') has no energy input\n",
      "Warning: ('electricity production, natural gas, conventional power plant', 'DE') has no energy input\n",
      "Warning: ('electricity production, natural gas, conventional power plant', 'BG') has no energy input\n",
      "Warning: ('electricity production, natural gas, conventional power plant', 'CN-HA') has no energy input\n",
      "Warning: ('electricity production, natural gas, conventional power plant', 'CN-SC') has no energy input\n",
      "Warning: ('electricity production, natural gas, conventional power plant', 'US-TRE') has no energy input\n",
      "Warning: ('electricity production, natural gas, conventional power plant', 'US-NPCC') has no energy input\n",
      "Warning: ('electricity production, natural gas, conventional power plant', 'CN-HN') has no energy input\n",
      "Warning: ('electricity production, natural gas, conventional power plant', 'TR') has no energy input\n",
      "Warning: ('electricity production, natural gas, conventional power plant', 'SA') has no energy input\n",
      "Warning: ('electricity production, natural gas, conventional power plant', 'BE') has no energy input\n",
      "Warning: ('electricity production, natural gas, conventional power plant', 'GR') has no energy input\n",
      "Warning: ('electricity production, natural gas, conventional power plant', 'CA-NS') has no energy input\n",
      "Warning: ('electricity production, natural gas, conventional power plant', 'NL') has no energy input\n",
      "Warning: ('electricity production, natural gas, conventional power plant', 'CA-SK') has no energy input\n",
      "Warning: ('electricity production, natural gas, conventional power plant', 'CL') has no energy input\n",
      "Warning: ('electricity production, natural gas, conventional power plant', 'AR') has no energy input\n",
      "Warning: ('electricity production, natural gas, conventional power plant', 'CO') has no energy input\n",
      "Warning: ('electricity production, natural gas, conventional power plant', 'IN-AP') has no energy input\n",
      "Warning: ('electricity production, natural gas, conventional power plant', 'CN-HU') has no energy input\n",
      "Warning: ('electricity production, natural gas, conventional power plant', 'CA-ON') has no energy input\n",
      "Warning: ('electricity production, natural gas, conventional power plant', 'ES') has no energy input\n",
      "Warning: ('electricity production, natural gas, conventional power plant', 'HU') has no energy input\n",
      "Warning: ('electricity production, natural gas, conventional power plant', 'RO') has no energy input\n",
      "Warning: ('electricity production, natural gas, conventional power plant', 'CN-SH') has no energy input\n"
     ]
    },
    {
     "name": "stderr",
     "output_type": "stream",
     "text": [
      "Processing scenarios for sector 'electricity': 100%|█| 1/1 [00:34<00:0"
     ]
    },
    {
     "name": "stdout",
     "output_type": "stream",
     "text": [
      "Done!\n",
      "\n"
     ]
    },
    {
     "name": "stderr",
     "output_type": "stream",
     "text": [
      "\n"
     ]
    }
   ],
   "source": [
    "ndb.update(\"electricity\")"
   ]
  },
  {
   "cell_type": "code",
   "execution_count": 13,
   "metadata": {},
   "outputs": [
    {
     "name": "stdout",
     "output_type": "stream",
     "text": [
      "Write new database(s) to Brightway.\n",
      "Running all checks...\n",
      "Minor anomalies found: check the change report.\n"
     ]
    },
    {
     "name": "stderr",
     "output_type": "stream",
     "text": [
      "Writing activities to SQLite3 database:\n",
      "0% [##############################] 100% | ETA: 00:00:00\n",
      "Total time elapsed: 00:00:25\n"
     ]
    },
    {
     "name": "stdout",
     "output_type": "stream",
     "text": [
      "Title: Writing activities to SQLite3 database:\n",
      "  Started: 11/22/2024 17:05:09\n",
      "  Finished: 11/22/2024 17:05:35\n",
      "  Total time elapsed: 00:00:25\n",
      "  CPU %: 46.10\n",
      "  Memory %: 19.34\n",
      "Created database: ei_cutoff_3.10_witch_SSP2-Base_2050 2024-11-22\n",
      "Generate scenario report.\n",
      "Report saved under c:\\WORK\\premise-witch\\witch-scenarios\\export\\scenario_report.\n",
      "Generate change report.\n",
      "Report saved under c:\\WORK\\premise-witch\\witch-scenarios.\n"
     ]
    }
   ],
   "source": [
    "ndb.write_db_to_brightway()"
   ]
  },
  {
   "cell_type": "code",
   "execution_count": 14,
   "metadata": {},
   "outputs": [
    {
     "data": {
      "text/plain": [
       "Databases dictionary with 3 object(s):\n",
       "\tbiosphere\n",
       "\tecoinvent-3.10-cutoff\n",
       "\tei_cutoff_3.10_witch_SSP2-Base_2050 2024-11-22"
      ]
     },
     "execution_count": 14,
     "metadata": {},
     "output_type": "execute_result"
    }
   ],
   "source": [
    "bw.databases"
   ]
  }
 ],
 "metadata": {
  "kernelspec": {
   "display_name": "premise",
   "language": "python",
   "name": "python3"
  },
  "language_info": {
   "codemirror_mode": {
    "name": "ipython",
    "version": 3
   },
   "file_extension": ".py",
   "mimetype": "text/x-python",
   "name": "python",
   "nbconvert_exporter": "python",
   "pygments_lexer": "ipython3",
   "version": "3.11.10"
  }
 },
 "nbformat": 4,
 "nbformat_minor": 2
}
