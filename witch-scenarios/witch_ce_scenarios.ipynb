{
 "cells": [
  {
   "cell_type": "code",
   "execution_count": 2,
   "id": "8d761e1d",
   "metadata": {},
   "outputs": [],
   "source": [
    "import premise\n",
    "from premise import *\n",
    "import brightway2 as bw\n",
    "import os\n",
    "import sys"
   ]
  },
  {
   "cell_type": "code",
   "execution_count": 3,
   "id": "e43a0c35",
   "metadata": {},
   "outputs": [
    {
     "data": {
      "text/plain": [
       "[Project: ab_test,\n",
       " Project: bw25,\n",
       " Project: bw25_intro,\n",
       " Project: bw_temporalis example,\n",
       " Project: CE_EV_Batteries,\n",
       " Project: CE_EV_Batteries_copy,\n",
       " Project: dds-MFA,\n",
       " Project: default,\n",
       " Project: ecoinvent-3.10-cutoff,\n",
       " Project: parametric-LCA,\n",
       " Project: parametric_exercise,\n",
       " Project: premise-witch,\n",
       " Project: Temporalis example project]"
      ]
     },
     "execution_count": 3,
     "metadata": {},
     "output_type": "execute_result"
    }
   ],
   "source": [
    "sorted(bw.projects)"
   ]
  },
  {
   "cell_type": "code",
   "execution_count": 3,
   "id": "6b272652",
   "metadata": {},
   "outputs": [],
   "source": [
    "bw.projects.set_current(name='premise-witch')"
   ]
  },
  {
   "cell_type": "code",
   "execution_count": 4,
   "id": "cee45347",
   "metadata": {},
   "outputs": [
    {
     "data": {
      "text/plain": [
       "['SSP2_WITCH_CE_SCENARIOS_2020_2060',\n",
       " 'biosphere',\n",
       " 'ecoinvent-3.10-cutoff',\n",
       " 'ei_cutoff_3.10_witch_SSP2-Base_2020 2025-06-04',\n",
       " 'ei_cutoff_3.10_witch_SSP2-Base_2050 2024-11-22',\n",
       " 'ei_cutoff_3.10_witch_SSP2-Base_2060 2025-06-04',\n",
       " 'ei_cutoff_3.10_witch_SSP2-ce-narrow_2020 2025-06-04',\n",
       " 'ei_cutoff_3.10_witch_SSP2-ce-narrow_2060 2025-06-04',\n",
       " 'ei_cutoff_3.10_witch_SSP2-ce-slow_2020 2025-06-04',\n",
       " 'ei_cutoff_3.10_witch_SSP2-ce-slow_2060 2025-06-04',\n",
       " 'ei_cutoff_3.10_witch_SSP2_BAU_2050 2025-04-07',\n",
       " 'ei_cutoff_3.10_witch_SSP2_BAU_2050 2025-04-08']"
      ]
     },
     "execution_count": 4,
     "metadata": {},
     "output_type": "execute_result"
    }
   ],
   "source": [
    "sorted(bw.databases)"
   ]
  },
  {
   "cell_type": "code",
   "execution_count": 5,
   "id": "2c69df60",
   "metadata": {},
   "outputs": [
    {
     "name": "stdout",
     "output_type": "stream",
     "text": [
      "premise requires the name of your biosphere database.\n",
      "Please enter the name of your biosphere database as it appears in your project.\n",
      "Databases dictionary with 12 object(s):\n",
      "\tSSP2_WITCH_CE_SCENARIOS_2020_2060\n",
      "\tbiosphere\n",
      "\tecoinvent-3.10-cutoff\n",
      "\tei_cutoff_3.10_witch_SSP2-Base_2020 2025-06-04\n",
      "\tei_cutoff_3.10_witch_SSP2-Base_2050 2024-11-22\n",
      "\tei_cutoff_3.10_witch_SSP2-Base_2060 2025-06-04\n",
      "\tei_cutoff_3.10_witch_SSP2-ce-narrow_2020 2025-06-04\n",
      "\tei_cutoff_3.10_witch_SSP2-ce-narrow_2060 2025-06-04\n",
      "\tei_cutoff_3.10_witch_SSP2-ce-slow_2020 2025-06-04\n",
      "\tei_cutoff_3.10_witch_SSP2-ce-slow_2060 2025-06-04\n",
      "\tei_cutoff_3.10_witch_SSP2_BAU_2050 2025-04-07\n",
      "\tei_cutoff_3.10_witch_SSP2_BAU_2050 2025-04-08\n",
      "premise v.(2, 3, 0, 'dev0')\n",
      "+------------------------------------------------------------------+\n",
      "| Warning                                                          |\n",
      "+------------------------------------------------------------------+\n",
      "| Because some of the scenarios can yield LCI databases            |\n",
      "| containing net negative emission technologies (NET),             |\n",
      "| it is advised to account for biogenic CO2 flows when calculating |\n",
      "| Global Warming potential indicators.                             |\n",
      "| `premise_gwp` provides characterization factors for such flows.  |\n",
      "| It also provides factors for hydrogen emissions to air.          |\n",
      "|                                                                  |\n",
      "| Within your bw2 project:                                         |\n",
      "| from premise_gwp import add_premise_gwp                          |\n",
      "| add_premise_gwp()                                                |\n",
      "+------------------------------------------------------------------+\n",
      "+--------------------------------+----------------------------------+\n",
      "| Utils functions                | Description                      |\n",
      "+--------------------------------+----------------------------------+\n",
      "| clear_cache()                  | Clears the cache folder. Useful  |\n",
      "|                                | when updating `premise`or        |\n",
      "|                                | encountering issues with         |\n",
      "|                                | inventories.                     |\n",
      "+--------------------------------+----------------------------------+\n",
      "| get_regions_definition(model)  | Retrieves the list of countries  |\n",
      "|                                | for each region of the model.    |\n",
      "+--------------------------------+----------------------------------+\n",
      "| ndb.NewDatabase(...)           | Generates a summary of the most  |\n",
      "| ndb.generate_scenario_report() | important scenarios' variables.  |\n",
      "+--------------------------------+----------------------------------+\n",
      "Keep uncertainty data?\n",
      "NewDatabase(..., keep_source_db_uncertainty=True), keep_imports_uncertainty=True)\n",
      "\n",
      "Hide these messages?\n",
      "NewDatabase(..., quiet=True)\n",
      "- Extracting source database\n",
      "- Extracting inventories\n",
      "- Fetching IAM data\n",
      "Reading ..\\premise\\data\\iam_output_files\\witch_SSP2-ce-slow.csv as csv file\n"
     ]
    },
    {
     "name": "stderr",
     "output_type": "stream",
     "text": [
      "C:\\WORK\\premise-witch\\premise\\data_collection.py:1141: DtypeWarning: Columns (4) have mixed types. Specify dtype option on import or set low_memory=False.\n",
      "  dataframe = pd.read_csv(\n"
     ]
    },
    {
     "name": "stdout",
     "output_type": "stream",
     "text": [
      "Cannot find variables for cement capture rate.\n",
      "Cannot find variables for steel capture rate.\n",
      "The following variables are missing from the IAM file:\n",
      "+-------------------------------+\n",
      "|            Variable           |\n",
      "+-------------------------------+\n",
      "| Temperature|WITCH|Global Mean |\n",
      "+-------------------------------+\n",
      "Reading ..\\premise\\data\\iam_output_files\\witch_SSP2-ce-slow.csv as csv file\n"
     ]
    },
    {
     "name": "stderr",
     "output_type": "stream",
     "text": [
      "C:\\WORK\\premise-witch\\premise\\data_collection.py:1141: DtypeWarning: Columns (4) have mixed types. Specify dtype option on import or set low_memory=False.\n",
      "  dataframe = pd.read_csv(\n"
     ]
    },
    {
     "name": "stdout",
     "output_type": "stream",
     "text": [
      "Cannot find variables for cement capture rate.\n",
      "Cannot find variables for steel capture rate.\n",
      "The following variables are missing from the IAM file:\n",
      "+-------------------------------+\n",
      "|            Variable           |\n",
      "+-------------------------------+\n",
      "| Temperature|WITCH|Global Mean |\n",
      "+-------------------------------+\n",
      "Done!\n"
     ]
    }
   ],
   "source": [
    "ndb = NewDatabase(\n",
    "    scenarios=[\n",
    "    #    {\"model\":\"witch\", \"pathway\":\"SSP2-Base\", \"year\":2020, \"filepath\":os.path.join(\"..\", \"premise\",\"data\", \"iam_output_files\")},\n",
    "    #    {\"model\":\"witch\", \"pathway\":\"SSP2-Base\", \"year\":2060, \"filepath\":os.path.join(\"..\", \"premise\",\"data\", \"iam_output_files\")},\n",
    "    #    {\"model\":\"witch\", \"pathway\":\"SSP2-ce-narrow\", \"year\":2020, \"filepath\":os.path.join(\"..\", \"premise\",\"data\", \"iam_output_files\")},\n",
    "    #    {\"model\":\"witch\", \"pathway\":\"SSP2-ce-narrow\", \"year\":2060, \"filepath\":os.path.join(\"..\", \"premise\",\"data\", \"iam_output_files\")},\n",
    "        {\"model\":\"witch\", \"pathway\":\"SSP2-ce-slow\", \"year\":2020, \"filepath\":os.path.join(\"..\", \"premise\",\"data\", \"iam_output_files\")},\n",
    "        {\"model\":\"witch\", \"pathway\":\"SSP2-ce-slow\", \"year\":2060, \"filepath\":os.path.join(\"..\", \"premise\",\"data\", \"iam_output_files\")},\n",
    "    ],\n",
    "    source_db=\"ecoinvent-3.10-cutoff\", \n",
    "    source_version=\"3.10\", \n",
    "    keep_source_db_uncertainty=False, \n",
    "    keep_imports_uncertainty=False, \n",
    "    use_absolute_efficiency=True,    \n",
    ")"
   ]
  },
  {
   "cell_type": "code",
   "execution_count": 6,
   "id": "bb53d5f6",
   "metadata": {},
   "outputs": [
    {
     "name": "stderr",
     "output_type": "stream",
     "text": [
      "Processing scenarios for sector 'electricity': 100%|█| 2/2 [01:08<00:0"
     ]
    },
    {
     "name": "stdout",
     "output_type": "stream",
     "text": [
      "Done!\n",
      "\n"
     ]
    },
    {
     "name": "stderr",
     "output_type": "stream",
     "text": [
      "\n"
     ]
    }
   ],
   "source": [
    "ndb.update(\"electricity\")"
   ]
  },
  {
   "cell_type": "code",
   "execution_count": 7,
   "id": "334654a9",
   "metadata": {},
   "outputs": [
    {
     "name": "stdout",
     "output_type": "stream",
     "text": [
      "Write new database(s) to Brightway.\n",
      "Running all checks...\n",
      "Minor anomalies found: check the change report.\n"
     ]
    },
    {
     "name": "stderr",
     "output_type": "stream",
     "text": [
      "Writing activities to SQLite3 database:\n",
      "0% [##############################] 100% | ETA: 00:00:00\n",
      "Total time elapsed: 00:01:17\n"
     ]
    },
    {
     "name": "stdout",
     "output_type": "stream",
     "text": [
      "Title: Writing activities to SQLite3 database:\n",
      "  Started: 06/05/2025 18:24:53\n",
      "  Finished: 06/05/2025 18:26:11\n",
      "  Total time elapsed: 00:01:17\n",
      "  CPU %: 91.90\n",
      "  Memory %: 24.59\n",
      "Created database: ei_cutoff_3.10_witch_SSP2-ce-slow_2020 2025-06-05\n",
      "Running all checks...\n",
      "Minor anomalies found: check the change report.\n"
     ]
    },
    {
     "name": "stderr",
     "output_type": "stream",
     "text": [
      "Writing activities to SQLite3 database:\n",
      "0% [##############################] 100% | ETA: 00:00:00\n",
      "Total time elapsed: 00:00:45\n"
     ]
    },
    {
     "name": "stdout",
     "output_type": "stream",
     "text": [
      "Title: Writing activities to SQLite3 database:\n",
      "  Started: 06/05/2025 18:34:43\n",
      "  Finished: 06/05/2025 18:35:28\n",
      "  Total time elapsed: 00:00:45\n",
      "  CPU %: 97.60\n",
      "  Memory %: 24.61\n",
      "Created database: ei_cutoff_3.10_witch_SSP2-ce-slow_2060 2025-06-05\n",
      "Generate scenario report.\n",
      "Report saved under c:\\WORK\\premise-witch\\witch-scenarios\\export\\scenario_report.\n",
      "Generate change report.\n",
      "Report saved under c:\\WORK\\premise-witch\\witch-scenarios.\n"
     ]
    }
   ],
   "source": [
    "ndb.write_db_to_brightway()"
   ]
  },
  {
   "cell_type": "code",
   "execution_count": 14,
   "id": "a30aedba",
   "metadata": {},
   "outputs": [
    {
     "name": "stdout",
     "output_type": "stream",
     "text": [
      "Running all checks...\n",
      "Minor anomalies found: check the change report.\n",
      "Running all checks...\n",
      "Minor anomalies found: check the change report.\n",
      "Running all checks...\n",
      "Minor anomalies found: check the change report.\n",
      "Running all checks...\n",
      "Minor anomalies found: check the change report.\n",
      "Running all checks...\n",
      "Minor anomalies found: check the change report.\n",
      "Running all checks...\n",
      "Minor anomalies found: check the change report.\n",
      "Building superstructure database...\n",
      "Dropped 20844 duplicate(s).\n",
      "Scenario difference file exported to c:\\WORK\\premise-witch\\witch-scenarios\\export\\scenario diff files!\n",
      "Running all checks...\n",
      "Minor anomalies found: check the change report.\n"
     ]
    },
    {
     "name": "stderr",
     "output_type": "stream",
     "text": [
      "Writing activities to SQLite3 database:\n",
      "0% [##############################] 100% | ETA: 00:00:00\n",
      "Total time elapsed: 00:00:33\n"
     ]
    },
    {
     "name": "stdout",
     "output_type": "stream",
     "text": [
      "Title: Writing activities to SQLite3 database:\n",
      "  Started: 06/04/2025 17:31:28\n",
      "  Finished: 06/04/2025 17:32:02\n",
      "  Total time elapsed: 00:00:33\n",
      "  CPU %: 92.70\n",
      "  Memory %: 29.94\n",
      "Created database: SSP2_WITCH_CE_SCENARIOS_2020_2060\n",
      "Generate scenario report.\n",
      "Report saved under c:\\WORK\\premise-witch\\witch-scenarios\\export\\scenario_report.\n",
      "Generate change report.\n",
      "Report saved under c:\\WORK\\premise-witch\\witch-scenarios.\n"
     ]
    }
   ],
   "source": [
    "ndb.write_superstructure_db_to_brightway(name=\"SSP2_WITCH_CE_SCENARIOS_2020_2060\")"
   ]
  }
 ],
 "metadata": {
  "kernelspec": {
   "display_name": "premise",
   "language": "python",
   "name": "python3"
  },
  "language_info": {
   "codemirror_mode": {
    "name": "ipython",
    "version": 3
   },
   "file_extension": ".py",
   "mimetype": "text/x-python",
   "name": "python",
   "nbconvert_exporter": "python",
   "pygments_lexer": "ipython3",
   "version": "3.11.10"
  }
 },
 "nbformat": 4,
 "nbformat_minor": 5
}
