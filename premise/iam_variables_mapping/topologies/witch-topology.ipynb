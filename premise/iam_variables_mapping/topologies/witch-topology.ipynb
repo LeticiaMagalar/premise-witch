{
 "cells": [
  {
   "cell_type": "code",
   "execution_count": 1,
   "id": "6f9e5c0a-c036-495a-b93e-3d878171fce9",
   "metadata": {},
   "outputs": [],
   "source": [
    "import json"
   ]
  },
  {
   "cell_type": "code",
   "execution_count": 3,
   "id": "1eae10a5-7492-4512-94d2-cf02aa17cbd0",
   "metadata": {},
   "outputs": [],
   "source": [
    "root = {\n",
    "    \"usa\": [\"US\", \"PM\"],\n",
    "    \"te\": [\"AM\", \"AZ\", \"BY\", \"GE\", \"KZ\", \"KG\", \"MD\", \"RU\", \"TJ\", \"TM\", \"UA\", \"UZ\"],\n",
    "    \"ssa\": [\"AO\", \"BI\", \"BJ\", \"BF\", \"BW\", \"CF\", \"CI\", \"CM\", \"CD\", \"CG\", \"KM\", \"CV\", \"DJ\", \"ER\", \"ET\", \"GA\", \"GH\", \"GN\", \"GM\", \"GW\", \"GQ\", \"KE\", \"LR\", \"LS\", \"MG\", \"ML\", \"MZ\", \"MR\", \"MU\", \"MW\", \"NA\", \"NE\", \"NG\", \"RE\", \"RW\", \"SN\", \"SH\", \"SL\", \"SO\", \"SS\", \"ST\", \"SZ\", \"SC\", \"TD\", \"TG\", \"TZ\", \"UG\", \"ZM\", \"ZW\"],\n",
    "    \"southafrica\": [\"ZA\"],\n",
    "    \"seasia\": [\"AS\", \"TF\", \"BN\", \"CK\", \"FJ\", \"FM\", \"GU\", \"IO\", \"KH\", \"KI\", \"LA\", \"MH\", \"MM\", \"MN\", \"MP\", \"MY\", \"NC\", \"NF\", \"NU\", \"NR\", \"PN\", \"PH\", \"PW\", \"PG\", \"KP\", \"PF\", \"SG\", \"SB\", \"TH\", \"TL\", \"TO\", \"TV\", \"UM\", \"VN\", \"VU\", \"WF\", \"WS\", \"MO\"],\n",
    "    \"oceania\": [\"AU\", \"NZ\"],\n",
    "    \"mexico\": [\"MX\"],\n",
    "    \"mena\": [\"AE\", \"BH\", \"DZ\", \"EG\", \"EH\", \"IR\", \"IQ\", \"IL\", \"JO\", \"KW\", \"LB\", \"LY\", \"MA\", \"OM\", \"PS\", \"QA\", \"SA\", \"SD\", \"SY\", \"TN\", \"TR\", \"YE\"],\n",
    "    \"laca\": [\"AW\", \"AI\", \"AR\", \"AQ\", \"AG\", \"BQ\", \"BS\", \"BZ\", \"BM\", \"BO\", \"BB\", \"CL\", \"CO\", \"CR\", \"CU\", \"CW\", \"KY\", \"DM\", \"DO\", \"EC\", \"FK\", \"GP\", \"GD\", \"GT\", \"GF\", \"GY\", \"HN\", \"HT\", \"JM\", \"KN\", \"LC\", \"MF\", \"MS\", \"MQ\", \"NI\", \"PA\", \"PE\", \"PR\", \"PY\", \"GS\", \"SV\", \"SR\", \"SX\", \"TC\", \"TT\", \"UY\", \"VC\", \"VE\", \"VG\", \"VI\", \"RLA\"],\n",
    "    \"korea\": [\"KR\"],\n",
    "    \"japan\": [\"JP\"],\n",
    "    \"indonesia\": [\"ID\"],\n",
    "    \"india\": [\"IN\"],\n",
    "    \"eu27\": [\"AT\", \"BE\", \"BG\", \"HR\", \"CY\", \"CZ\", \"DK\", \"EE\", \"FI\", \"FR\", \"DE\", \"GR\", \"HU\", \"IE\", \"IT\", \"LV\", \"LT\", \"LU\", \"MT\", \"NL\", \"PL\", \"PT\", \"RO\", \"SK\", \"SI\", \"ES\", \"SE\"],\n",
    "    \"othereurope\": [\"AX\", \"FO\", \"GB\", \"GI\", \"IM\", \"IS\", \"LI\", \"MC\", \"NO\", \"SM\", \"CH\", \"AL\", \"AD\", \"BA\", \"XK\", \"ME\", \"MK\", \"RS\", \"VA\", \"SJ\", \"GL\"],\n",
    "    \"china\": [\"CN\", \"HK\", \"TW\"],\n",
    "    \"canada\": [\"CA\"],\n",
    "    \"brazil\": [\"BR\"],\n",
    "    \"sasia\": [\"AF\", \"BD\", \"BT\", \"NP\", \"MV\", \"PK\", \"LK\"],\n",
    "    \"ccasia\": [\"TM\", \"TJ\", \"KG\", \"KZ\", \"UZ\", \"MN\", \"AM\", \"AZ\", \"GE\"]\n",
    "}\n",
    "\n",
    "fp = \"C:\\\\WORK\\\\premise-witch\\\\witch-topology.json\"\n",
    "\n",
    "with open(fp, 'w') as json_file:\n",
    "    json.dump(root, json_file, indent=4)  # indent=4 for better formatting\n",
    "\n"
   ]
  },
  {
   "cell_type": "code",
   "execution_count": null,
   "id": "39e5cdf7-68ff-44f6-b325-645c868a8106",
   "metadata": {},
   "outputs": [],
   "source": []
  }
 ],
 "metadata": {
  "kernelspec": {
   "display_name": "premise-witch",
   "language": "python",
   "name": "python3"
  },
  "language_info": {
   "codemirror_mode": {
    "name": "ipython",
    "version": 3
   },
   "file_extension": ".py",
   "mimetype": "text/x-python",
   "name": "python",
   "nbconvert_exporter": "python",
   "pygments_lexer": "ipython3",
   "version": "3.11.10"
  }
 },
 "nbformat": 4,
 "nbformat_minor": 5
}
